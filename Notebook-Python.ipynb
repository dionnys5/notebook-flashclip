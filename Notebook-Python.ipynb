{
 "cells": [
  {
   "cell_type": "markdown",
   "metadata": {},
   "source": [
    "<h1>Introdução</h1>\n",
    "<br><br>\n",
    "<div  style=\"font-size: 18px; font-family: sans-serif; color: #666666;\">\n",
    "<p>A linguagem de programação python, foi criada por Guido van Rossum em 1991.  Se destaca pelo aprendizado rápido e pela facilidade de entendimento do código. </p>\n",
    "    </div><br>"
   ]
  },
  {
   "cell_type": "markdown",
   "metadata": {},
   "source": [
    "<h1>Hello World!</h1><br>\n",
    "<div  style=\"font-size: 18px; font-family: sans-serif; color: #666666;\">\n",
    "<p>O algoritmo de estreia para os programadores é o \"Olá, mundo.\" Ele basicamente faz a tela mostrar essa frase, imprimir. <i>(imprimir, no termo técnico-histórico: antes de as telas surgirem, os desenvolvedores literalmente imprimiam os resultados dos códigos.)</i></p>\n",
    "    <div><br>"
   ]
  },
  {
   "cell_type": "code",
   "execution_count": null,
   "metadata": {},
   "outputs": [],
   "source": []
  },
  {
   "cell_type": "markdown",
   "metadata": {},
   "source": [
    "<br>\n",
    "<h1>Instalação</h1><br>\n",
    "<div  style=\"font-size: 18px; font-family: sans-serif; color: #666666;\">\n",
    "<p>Acesse: <a href=\"https://www.python.org/downloads/\">https://www.python.org/downloads/</a></p>\n",
    "<p>Baixe o instalador do python através do link <br><img src=\"https://s3.amazonaws.com/flashcliph/instalacao.png\"  width=\"800\"></p>\n",
    "<p>O instalador não te dá todos os pacotes e a IDE que estamos utilizando hoje, mas é possível usar a IDE que vem direto com a instalação para treinar pequenos scripts e realizar tarefas. O segredo do aprendizado é a <strong>prática!</strong></p>\n",
    "</div>"
   ]
  },
  {
   "cell_type": "markdown",
   "metadata": {},
   "source": [
    "\n",
    "<h1>Tipos de dados</h1>\n",
    "\n",
    "<br>\n",
    "\n",
    "<div style=\"font-size: 18px; font-family: sans-serif; color: #666666;\">\n",
    "<p>São uma forma de categorizar os valores. Por exemplo, números inteiros são processados de \n",
    "forma diferente dos números de ponto flutuante \n",
    "(decimais) </p>\n",
    "<ul>\n",
    "    <li><b>Números inteiros:</b> <span style=\"color:Olive;\">int</span></li>\n",
    "<li><b>Números decimais:</b> <span style=\"color:Olive;\">float</span></li>\n",
    "<li><b>Números complexos:</b> <span style=\"color:Olive;\">complex</span></li>\n",
    "<li><b>Lista de caracteres:</b> <span style=\"color:Olive;\">String</span></li>\n",
    "<li><b>Objetos compostos:</b> listas, dicionários, tuplas e conjuntos</li>\n",
    "</ul>\n",
    "</div>\n",
    "\n",
    "<br>\n",
    "\n",
    "<h1>Variáveis</h1><br>\n",
    "\n",
    "<div  style=\"font-size: 18px; font-family: sans-serif; color: #666666;\">\n",
    "<p>São nomes dados a áreas de memória, esses nomes podem ser compostos de algarismos,letras ou _ <br>\n",
    "    O primeiro caractere não pode ser um algarismo e existem Palavras reservadas (if, while, etc), por isso são proibidas.\n",
    " \n",
    " </div><br>"
   ]
  },
  {
   "cell_type": "code",
   "execution_count": null,
   "metadata": {},
   "outputs": [],
   "source": [
    "nome = \"Maria\" #Essa é uma variaáel que se chama nome e guarda o valor do tipo string Maria\n",
    "\n",
    "idade = 18 #Variável do tipo int\n",
    "\n",
    "hobbies = [\"Estudar\", \"Programar\", \"Ler\", \"Ir ao cinema\"] #Variável com uma lista de dados do tipo String\n",
    "\n",
    "parentes = {\"Pai\": \"João\", \"Mãe\": \"Josefina\", \"Irmão\": \"José\"} #Variável com um dicionário\n",
    "\n"
   ]
  },
  {
   "cell_type": "code",
   "execution_count": null,
   "metadata": {},
   "outputs": [],
   "source": [
    "################ Use esse espaço para treinar! ################\n",
    "\n",
    "\n"
   ]
  },
  {
   "cell_type": "markdown",
   "metadata": {},
   "source": [
    "<h1>Condicionais</h1>"
   ]
  },
  {
   "cell_type": "code",
   "execution_count": null,
   "metadata": {},
   "outputs": [],
   "source": []
  },
  {
   "cell_type": "markdown",
   "metadata": {},
   "source": [
    "<h1>Laços de repetição</h1><br>\n",
    "\n",
    "<div style=\"font-size: 18px; font-family: sans-serif; color: #666666;\">\n",
    "<p>Em algumas situações, é comum que uma mesma instrução (ou conjunto delas) precise ser executada várias vezes seguidas. Nesses casos é usado um loop (ou laço de repetição), que permite executar um bloco de código várias vezes, enquanto uma dada condição é atendida.\n",
    "\n",
    "Em Python, os loops são codificados por meio dos comandos for e while. </p></div>\n",
    "\n",
    "<br>"
   ]
  },
  {
   "cell_type": "code",
   "execution_count": null,
   "metadata": {},
   "outputs": [],
   "source": [
    "for i in range(10):\n",
    "    '''A função range é que define como o for deve se comportar\n",
    "    Para ela é passado um parametro que define quantas vezes o código vai se repetir'''    \n",
    "    print(i)"
   ]
  },
  {
   "cell_type": "code",
   "execution_count": null,
   "metadata": {},
   "outputs": [],
   "source": [
    "################ Use esse espaço para treinar! ################\n",
    "\n",
    "\n"
   ]
  },
  {
   "cell_type": "code",
   "execution_count": null,
   "metadata": {},
   "outputs": [],
   "source": [
    "lista = '' #Precisamos de uma lista aqui\n",
    "\n",
    "for i in lista:\n",
    "    print(i)"
   ]
  },
  {
   "cell_type": "code",
   "execution_count": null,
   "metadata": {},
   "outputs": [],
   "source": [
    "################ Use esse espaço para treinar! ################\n",
    "\n",
    "\n"
   ]
  },
  {
   "cell_type": "code",
   "execution_count": null,
   "metadata": {},
   "outputs": [],
   "source": [
    "i = 0\n",
    "while i < 10:\n",
    "    print(i)\n",
    "    i += 1"
   ]
  },
  {
   "cell_type": "code",
   "execution_count": null,
   "metadata": {},
   "outputs": [],
   "source": [
    "################ Use esse espaço para treinar! ################\n",
    "\n",
    "\n"
   ]
  },
  {
   "cell_type": "markdown",
   "metadata": {},
   "source": [
    "<h1>Importação de Dados</h1>\n",
    "\n",
    "<p>Também é interessante saber como importar dados para que sejam tratados e analisados. para isso temos algumas funções que auxiliam nisso.</p>"
   ]
  },
  {
   "cell_type": "code",
   "execution_count": null,
   "metadata": {},
   "outputs": [],
   "source": [
    "import csv\n",
    "\n",
    "csvfile = open(\"Prefeito_Palmas2016.txt\", 'r')\n",
    "dados = csv.reader(csvfile, delimiter=';')\n",
    "for r in dados:\n",
    "    print(r)\n",
    "    \n",
    "csvfile.close()"
   ]
  },
  {
   "cell_type": "markdown",
   "metadata": {},
   "source": [
    "<h1>Tratando e visualizando Dados</h1>"
   ]
  },
  {
   "cell_type": "code",
   "execution_count": null,
   "metadata": {},
   "outputs": [],
   "source": [
    "import numpy as np\n",
    "import matplotlib.pyplot as plt\n",
    "\n",
    "men_means, men_std = (20, 35, 30, 35, 27), (2, 3, 4, 1, 2)\n",
    "women_means, women_std = (25, 62, 64, 30, 55), (3, 5, 2, 3, 3)\n",
    "\n",
    "ind = np.arange(len(men_means))  # the x locations for the groups\n",
    "width = 0.35  # the width of the bars\n",
    "\n",
    "fig, ax = plt.subplots()\n",
    "rects1 = ax.bar(ind - width/2, men_means, width, yerr=men_std,\n",
    "                color='SkyBlue', label='Homens')\n",
    "\n",
    "rects2 = ax.bar(ind + width/2, women_means, width, yerr=women_std,\n",
    "                color='IndianRed', label='Mulheres')\n",
    "\n",
    "# Add some text for labels, title and custom x-axis tick labels, etc.\n",
    "ax.set_ylabel('Pontuações')\n",
    "ax.set_title('POntuações por grupos de gênero')\n",
    "ax.set_xticks(ind)\n",
    "ax.set_xticklabels(('G1', 'G2', 'G3', 'G4', 'G5'))\n",
    "ax.legend()\n",
    "\n",
    "plt.show()"
   ]
  },
  {
   "cell_type": "markdown",
   "metadata": {},
   "source": [
    "<h1>O que é Aprendizado de Máquina</h1>\n",
    "<p>É um campo da <a href=\"https://www.tecmundo.com.br/intel/1039-o-que-e-inteligencia-artificial-.htm\" target=\"_blank\">Inteligência Artificial (IA)</a> que dá aos computadores a capacidade de aprender sem serem explicitamente programados, ou seja, permite que os computadores aprendam a executar tarefas a partir de dados.</p>\n",
    "<h3>Não entendeu ainda? Vamos tentar novamente</h3>\n",
    "<p>Aprendizado de máquina é a ideia de que existem <a href=\"https://pt.wikipedia.org/wiki/Algoritmo\" target=\"_blank\">algoritmos</a> genéricos que podem lhe dizer algo interessante sobre um <a href=\"https://pt.wikipedia.org/wiki/Conjunto_de_dados\" target=\"_blank\">conjunto de dados</a> sem que você tenha que escrever nenhum código específico ao problema.  Ao invés de escrever código, você alimenta o algoritmo genérico com os dados e ele constrói a sua própria logica com base nos dados.<p>\n",
    "\n",
    "<h1>Definição Formal</h1>\n",
    "<p>Diz-se que um programa de computador aprende a executar uma <strong>tarefa T</strong> a partir da <strong>experiência E</strong>, se seu desempenho na tarefa T, medido por uma métrica de <strong>desempenho P</strong>, melhora com a experiência E ao longo do tempo.</p>\n",
    "<h3>Exemplificando a definição</h3>\n",
    "<p>Vamos supor que um computador tenha que aprender a jogar xadrez (Tarefa T). Paro isso, ele \"assiste\" partidas anteriores ou joga contra um tutor (Experiência E). Seu desempenho P pode ser medido contanto a porcentagem de partidas ganhas contra um humano. Se ao longo do tempo a porcentagem estiver aumentando, pode se dizer que o computador está aprendendo a jogar xadrez</p>\n",
    "\n",
    "<h1>Tipos de algoritmos de Aprendizado de Máquina</h1>\n",
    "<p> Temos dois tipos gerais de algoritmos de aprendizado de máquina, <strong>Aprendizado Supervisionado</strong> e <strong>Aprendizado não Supervisionado</strong>. A principal diferença entre as duas abordagens reside na forma como fornecemos exemplos de treinamento ao nosso algoritmo, como o algoritmo os utiliza e o tipo de problemas que eles resolvem. A definição dos tipos segue:\n",
    "    <ul>\n",
    "        <li><strong>Aprendizado Supervisionado: </strong>O programa é “treinado” em um conjunto pré-definido de “exemplos de treinamento”, o que facilita sua capacidade de chegar a uma conclusão precisa quando receber novos dados.</li>\n",
    "        <li><strong>Aprendizado não Supervisionado: </strong>O programa recebe um conjunto de dados e precisa encontrar padrões e relacionamentos nele.</li>\n",
    "    </ul>\n",
    "<h1>Redes Neurais - Uma Técnica para Implementar Machine Learning</h1>\n",
    "<p>Redes Neurais Artificias é uma subárea do Aprendizado de Máquina, que emprega algoritmos para processar dados e imitar o processamento feito pelo cérebro humano.</p>"
   ]
  },
  {
   "cell_type": "markdown",
   "metadata": {},
   "source": [
    "<h1> Exemplo Prático</h1>\n",
    "<p> Vamos Reconhecer Digitos escritos a mão? </p>"
   ]
  },
  {
   "cell_type": "code",
   "execution_count": null,
   "metadata": {},
   "outputs": [],
   "source": [
    "import tensorflow as tf\n",
    "import matplotlib.pyplot as plt\n",
    "import numpy as np\n",
    "from PIL import Image\n",
    "%matplotlib inline"
   ]
  },
  {
   "cell_type": "markdown",
   "metadata": {},
   "source": [
    "<h3>Carregando os dados</h3>"
   ]
  },
  {
   "cell_type": "code",
   "execution_count": null,
   "metadata": {},
   "outputs": [],
   "source": [
    "mnist = tf.keras.datasets.mnist # imagens 28x28 de digitos escritos a mão de 0-9\n",
    "(x_train, y_train), (x_test, y_test) = mnist.load_data()"
   ]
  },
  {
   "cell_type": "markdown",
   "metadata": {},
   "source": [
    "<h3>Visualizando um exemplo</h3>"
   ]
  },
  {
   "cell_type": "code",
   "execution_count": null,
   "metadata": {},
   "outputs": [],
   "source": [
    "plt.imshow(x_train[0], cmap=plt.cm.binary)\n",
    "plt.title(\"Número: %i\"%y_train[0])\n",
    "plt.show()"
   ]
  },
  {
   "cell_type": "markdown",
   "metadata": {},
   "source": [
    "<h3>Normalizando os dados</h3>"
   ]
  },
  {
   "cell_type": "code",
   "execution_count": null,
   "metadata": {},
   "outputs": [],
   "source": [
    "x_train = tf.keras.utils.normalize(x_train, axis=1)\n",
    "x_test = tf.keras.utils.normalize(x_test, axis=1)"
   ]
  },
  {
   "cell_type": "code",
   "execution_count": null,
   "metadata": {},
   "outputs": [],
   "source": [
    "plt.imshow(x_train[0], cmap=plt.cm.binary)\n",
    "plt.title(\"Número: %i\"%y_train[0])\n",
    "plt.show()"
   ]
  },
  {
   "cell_type": "code",
   "execution_count": null,
   "metadata": {},
   "outputs": [],
   "source": [
    "x_train = x_train.reshape(x_train.shape[0], 1, 28, 28)\n",
    "x_test = x_test.reshape(x_test.shape[0], 1, 28, 28)"
   ]
  },
  {
   "cell_type": "markdown",
   "metadata": {},
   "source": [
    "<h3>Construindo a rede neural</h3>"
   ]
  },
  {
   "cell_type": "code",
   "execution_count": 23,
   "metadata": {},
   "outputs": [
    {
     "ename": "NameError",
     "evalue": "name 'tf' is not defined",
     "output_type": "error",
     "traceback": [
      "\u001b[1;31m---------------------------------------------------------------------------\u001b[0m",
      "\u001b[1;31mNameError\u001b[0m                                 Traceback (most recent call last)",
      "\u001b[1;32m<ipython-input-23-ef9be2445616>\u001b[0m in \u001b[0;36m<module>\u001b[1;34m\u001b[0m\n\u001b[1;32m----> 1\u001b[1;33m model = tf.keras.models.Sequential([\n\u001b[0m\u001b[0;32m      2\u001b[0m   \u001b[0mtf\u001b[0m\u001b[1;33m.\u001b[0m\u001b[0mkeras\u001b[0m\u001b[1;33m.\u001b[0m\u001b[0mlayers\u001b[0m\u001b[1;33m.\u001b[0m\u001b[0mFlatten\u001b[0m\u001b[1;33m(\u001b[0m\u001b[0minput_shape\u001b[0m\u001b[1;33m=\u001b[0m\u001b[1;33m(\u001b[0m\u001b[1;36m1\u001b[0m\u001b[1;33m,\u001b[0m \u001b[1;36m28\u001b[0m\u001b[1;33m,\u001b[0m \u001b[1;36m28\u001b[0m\u001b[1;33m)\u001b[0m\u001b[1;33m)\u001b[0m\u001b[1;33m,\u001b[0m\u001b[1;33m\u001b[0m\u001b[0m\n\u001b[0;32m      3\u001b[0m   \u001b[0mtf\u001b[0m\u001b[1;33m.\u001b[0m\u001b[0mkeras\u001b[0m\u001b[1;33m.\u001b[0m\u001b[0mlayers\u001b[0m\u001b[1;33m.\u001b[0m\u001b[0mDense\u001b[0m\u001b[1;33m(\u001b[0m\u001b[1;36m512\u001b[0m\u001b[1;33m,\u001b[0m \u001b[0mactivation\u001b[0m\u001b[1;33m=\u001b[0m\u001b[0mtf\u001b[0m\u001b[1;33m.\u001b[0m\u001b[0mnn\u001b[0m\u001b[1;33m.\u001b[0m\u001b[0mrelu\u001b[0m\u001b[1;33m)\u001b[0m\u001b[1;33m,\u001b[0m\u001b[1;33m\u001b[0m\u001b[0m\n\u001b[0;32m      4\u001b[0m   \u001b[0mtf\u001b[0m\u001b[1;33m.\u001b[0m\u001b[0mkeras\u001b[0m\u001b[1;33m.\u001b[0m\u001b[0mlayers\u001b[0m\u001b[1;33m.\u001b[0m\u001b[0mDropout\u001b[0m\u001b[1;33m(\u001b[0m\u001b[1;36m0.2\u001b[0m\u001b[1;33m)\u001b[0m\u001b[1;33m,\u001b[0m\u001b[1;33m\u001b[0m\u001b[0m\n\u001b[0;32m      5\u001b[0m   \u001b[0mtf\u001b[0m\u001b[1;33m.\u001b[0m\u001b[0mkeras\u001b[0m\u001b[1;33m.\u001b[0m\u001b[0mlayers\u001b[0m\u001b[1;33m.\u001b[0m\u001b[0mDense\u001b[0m\u001b[1;33m(\u001b[0m\u001b[1;36m10\u001b[0m\u001b[1;33m,\u001b[0m \u001b[0mactivation\u001b[0m\u001b[1;33m=\u001b[0m\u001b[0mtf\u001b[0m\u001b[1;33m.\u001b[0m\u001b[0mnn\u001b[0m\u001b[1;33m.\u001b[0m\u001b[0msoftmax\u001b[0m\u001b[1;33m)\u001b[0m\u001b[1;33m\u001b[0m\u001b[0m\n",
      "\u001b[1;31mNameError\u001b[0m: name 'tf' is not defined"
     ]
    }
   ],
   "source": [
    "model = tf.keras.models.Sequential([\n",
    "  tf.keras.layers.Flatten(input_shape=(1, 28, 28)),\n",
    "  tf.keras.layers.Dense(512, activation=tf.nn.relu),\n",
    "  tf.keras.layers.Dropout(0.2),\n",
    "  tf.keras.layers.Dense(10, activation=tf.nn.softmax)\n",
    "])\n",
    "model.compile(optimizer='adam',\n",
    "              loss='sparse_categorical_crossentropy',\n",
    "              metrics=['accuracy'])"
   ]
  },
  {
   "cell_type": "markdown",
   "metadata": {},
   "source": [
    "<h3>Treinando nossa rede</h3>"
   ]
  },
  {
   "cell_type": "code",
   "execution_count": null,
   "metadata": {},
   "outputs": [],
   "source": [
    "model.fit(x_train, y_train, epochs=5)\n",
    "model.evaluate(x_test, y_test)"
   ]
  },
  {
   "cell_type": "markdown",
   "metadata": {},
   "source": [
    "<h3>Salvando e carregando nossa rede</h3>"
   ]
  },
  {
   "cell_type": "code",
   "execution_count": null,
   "metadata": {},
   "outputs": [],
   "source": [
    "model.save(\"mnist.model\")\n",
    "new_model = tf.keras.models.load_model(\"mnist.model\")"
   ]
  },
  {
   "cell_type": "markdown",
   "metadata": {},
   "source": [
    "<h3>Fazendo previsões</h3>"
   ]
  },
  {
   "cell_type": "code",
   "execution_count": null,
   "metadata": {},
   "outputs": [],
   "source": [
    "np.argmax(new_model.predict([x_test[0].reshape(1, 1, 28, 28)]))"
   ]
  },
  {
   "cell_type": "code",
   "execution_count": null,
   "metadata": {},
   "outputs": [],
   "source": [
    "plt.imshow(x_test[0].reshape(28,28), cmap=plt.cm.binary)"
   ]
  },
  {
   "cell_type": "markdown",
   "metadata": {},
   "source": [
    "<h1>Vamos testar com imagens feitas por nós?</h1>\n",
    "<ol>\n",
    "    <li>Primeiro vamos abrir o Paint</li>\n",
    "    <li>\n",
    "        Com o paint aberto, vamo fazer algumas configurações\n",
    "        <ol>\n",
    "            <li>Redimensionar o tamanho do paint para 28x28</li>\n",
    "            <li>Aumentar o Zoom para o máximo</li>\n",
    "            <li>Pintar o fundo de preto</li>\n",
    "            <li>Selecionar a cor principal como branca</li>\n",
    "        </ol>\n",
    "   </li>\n",
    "    <li>Desenhe um número e salve como JPEG</li>\n",
    "</ol>"
   ]
  },
  {
   "cell_type": "code",
   "execution_count": null,
   "metadata": {},
   "outputs": [],
   "source": [
    "def prever(image):\n",
    "    image = np.array(Image.open(image).convert(\"L\"))\n",
    "    plt.imshow(image, cmap=plt.cm.binary)\n",
    "    image = tf.keras.utils.normalize(image)\n",
    "    image = image.reshape(1, 1, 28, 28)\n",
    "    predict = np.argmax(model.predict([image]))\n",
    "    plt.title(\"Número previsto: %i\"%predict)\n",
    "    plt.show()"
   ]
  },
  {
   "cell_type": "markdown",
   "metadata": {},
   "source": [
    "<h3>Passe o mesmo nome do arquivo que você salvo para a função</h3>"
   ]
  },
  {
   "cell_type": "code",
   "execution_count": null,
   "metadata": {},
   "outputs": [],
   "source": [
    "prever(\"sete.jpg\")"
   ]
  },
  {
   "cell_type": "code",
   "execution_count": null,
   "metadata": {},
   "outputs": [],
   "source": []
  },
  {
   "cell_type": "code",
   "execution_count": null,
   "metadata": {},
   "outputs": [],
   "source": []
  },
  {
   "cell_type": "code",
   "execution_count": null,
   "metadata": {},
   "outputs": [],
   "source": []
  },
  {
   "cell_type": "code",
   "execution_count": null,
   "metadata": {},
   "outputs": [],
   "source": []
  },
  {
   "cell_type": "code",
   "execution_count": null,
   "metadata": {},
   "outputs": [],
   "source": []
  },
  {
   "cell_type": "code",
   "execution_count": null,
   "metadata": {},
   "outputs": [],
   "source": []
  }
 ],
 "metadata": {
  "kernelspec": {
   "display_name": "Python 3",
   "language": "python",
   "name": "python3"
  },
  "language_info": {
   "codemirror_mode": {
    "name": "ipython",
    "version": 3
   },
   "file_extension": ".py",
   "mimetype": "text/x-python",
   "name": "python",
   "nbconvert_exporter": "python",
   "pygments_lexer": "ipython3",
   "version": "3.7.0"
  }
 },
 "nbformat": 4,
 "nbformat_minor": 2
}

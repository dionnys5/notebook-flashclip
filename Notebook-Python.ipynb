{
 "cells": [
  {
   "cell_type": "markdown",
   "metadata": {},
   "source": [
    "<h1>Introdução</h1>\n",
    "\n",
    "<p>A linguagem de programação python, foi criada por Guido van Rossum em 1991.  Se destaca pelo aprendizado rápido e pela facilidade de entendimento do código. </p>"
   ]
  },
  {
   "cell_type": "markdown",
   "metadata": {},
   "source": [
    "<br>\n",
    "<h1>Instalação</h1>\n",
    "<p>Acesse: <a href=\"https://www.python.org/downloads/\">https://www.python.org/downloads/</a></p>\n",
    "<p>Baixe o instalador do python através do link <br><img src=\"https://s3.amazonaws.com/flashcliph/instalacao.png\"  width=\"800\"></p>\n",
    "<p>O instalador não te dá todos os pacotes e a IDE que estamos utilizando hoje, mas é possível usar a IDE que vem direto com a instalação para treinar pequenos scripts e realizar tarefas. O segredo do aprendizado é a <strong>prática!</strong></p>"
   ]
  },
  {
   "cell_type": "code",
   "execution_count": null,
   "metadata": {},
   "outputs": [],
   "source": []
  },
  {
   "cell_type": "code",
   "execution_count": null,
   "metadata": {},
   "outputs": [],
   "source": []
  },
  {
   "cell_type": "code",
   "execution_count": null,
   "metadata": {},
   "outputs": [],
   "source": []
  },
  {
   "cell_type": "code",
   "execution_count": null,
   "metadata": {},
   "outputs": [],
   "source": []
  },
  {
   "cell_type": "code",
   "execution_count": null,
   "metadata": {},
   "outputs": [],
   "source": []
  }
 ],
 "metadata": {
  "kernelspec": {
   "display_name": "Python 3",
   "language": "python",
   "name": "python3"
  },
  "language_info": {
   "codemirror_mode": {
    "name": "ipython",
    "version": 3
   },
   "file_extension": ".py",
   "mimetype": "text/x-python",
   "name": "python",
   "nbconvert_exporter": "python",
   "pygments_lexer": "ipython3",
   "version": "3.7.0"
  }
 },
 "nbformat": 4,
 "nbformat_minor": 2
}

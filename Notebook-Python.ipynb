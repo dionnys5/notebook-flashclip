{
 "cells": [
  {
   "cell_type": "markdown",
   "metadata": {},
   "source": [
    "<h1>Introdução</h1>\n",
    "<br><br>\n",
    "<div  style=\"font-size: 18px; font-family: sans-serif; color: #666666;\">\n",
    "<p>A linguagem de programação python, foi criada por Guido van Rossum em 1991.  Se destaca pelo aprendizado rápido e pela facilidade de entendimento do código. </p>\n",
    "    </div><br>"
   ]
  },
  {
   "cell_type": "markdown",
   "metadata": {},
   "source": [
    "<h1>Hello World!</h1><br>\n",
    "<div  style=\"font-size: 18px; font-family: sans-serif; color: #666666;\">\n",
    "<p>O algoritmo de estreia para os programadores é o \"Olá, mundo.\" Ele basicamente faz a tela mostrar essa frase, imprimir. <i>(imprimir, no termo técnico-histórico: antes de as telas surgirem, os desenvolvedores literalmente imprimiam os resultados dos códigos.)</i></p>\n",
    "    <div><br>"
   ]
  },
  {
   "cell_type": "code",
   "execution_count": null,
   "metadata": {},
   "outputs": [],
   "source": []
  },
  {
   "cell_type": "markdown",
   "metadata": {},
   "source": [
    "<br>\n",
    "<h1>Instalação</h1><br>\n",
    "<div  style=\"font-size: 18px; font-family: sans-serif; color: #666666;\">\n",
    "<p>Acesse: <a href=\"https://www.python.org/downloads/\">https://www.python.org/downloads/</a></p>\n",
    "<p>Baixe o instalador do python através do link <br><img src=\"https://s3.amazonaws.com/flashcliph/instalacao.png\"  width=\"800\"></p>\n",
    "<p>O instalador não te dá todos os pacotes e a IDE que estamos utilizando hoje, mas é possível usar a IDE que vem direto com a instalação para treinar pequenos scripts e realizar tarefas. O segredo do aprendizado é a <strong>prática!</strong></p>\n",
    "</div>"
   ]
  },
  {
   "cell_type": "markdown",
   "metadata": {},
   "source": [
    "\n",
    "<h1>Tipos de dados</h1>\n",
    "\n",
    "<br>\n",
    "\n",
    "<div style=\"font-size: 18px; font-family: sans-serif; color: #666666;\">\n",
    "<p>São uma forma de categorizar os valores. Por exemplo, números inteiros são processados de \n",
    "forma diferente dos números de ponto flutuante \n",
    "(decimais) </p>\n",
    "<ul>\n",
    "    <li><b>Números inteiros:</b> <span style=\"color:Olive;\">int</span></li>\n",
    "<li><b>Números decimais:</b> <span style=\"color:Olive;\">float</span></li>\n",
    "<li><b>Números complexos:</b> <span style=\"color:Olive;\">complex</span></li>\n",
    "<li><b>Lista de caracteres:</b> <span style=\"color:Olive;\">String</span></li>\n",
    "<li><b>Objetos compostos:</b> listas, dicionários, tuplas e conjuntos</li>\n",
    "</ul>\n",
    "</div>\n",
    "\n",
    "<br>\n",
    "\n",
    "<h1>Variáveis</h1><br>\n",
    "\n",
    "<div  style=\"font-size: 18px; font-family: sans-serif; color: #666666;\">\n",
    "<p>São nomes dados a áreas de memória, esses nomes podem ser compostos de algarismos,letras ou _ <br>\n",
    "    O primeiro caractere não pode ser um algarismo e existem Palavras reservadas (if, while, etc), por isso são proibidas.\n",
    " \n",
    " </div><br>"
   ]
  },
  {
   "cell_type": "code",
   "execution_count": null,
   "metadata": {},
   "outputs": [],
   "source": [
    "nome = \"Maria\" #Essa é uma variaáel que se chama nome e guarda o valor do tipo string Maria\n",
    "\n",
    "idade = 18 #Variável do tipo int\n",
    "\n",
    "hobbies = [\"Estudar\", \"Programar\", \"Ler\", \"Ir ao cinema\"] #Variável com uma lista de dados do tipo String\n",
    "\n",
    "parentes = {\"Pai\": \"João\", \"Mãe\": \"Josefina\", \"Irmão\": \"José\"} #Variável com um dicionário\n",
    "\n"
   ]
  },
  {
   "cell_type": "code",
   "execution_count": null,
   "metadata": {},
   "outputs": [],
   "source": [
    "''' Use esse espaço para treinar! '''\n",
    "\n",
    "\n"
   ]
  },
  {
   "cell_type": "markdown",
   "metadata": {},
   "source": [
    "<h1>Condicionais</h1>"
   ]
  },
  {
   "cell_type": "code",
   "execution_count": null,
   "metadata": {},
   "outputs": [],
   "source": []
  },
  {
   "cell_type": "markdown",
   "metadata": {},
   "source": [
    "<h1>Laços de repetição</h1><br>\n",
    "\n",
    "<div style=\"font-size: 18px; font-family: sans-serif; color: #666666;\">\n",
    "<p>Em algumas situações, é comum que uma mesma instrução (ou conjunto delas) precise ser executada várias vezes seguidas. Nesses casos é usado um loop (ou laço de repetição), que permite executar um bloco de código várias vezes, enquanto uma dada condição é atendida.\n",
    "\n",
    "Em Python, os loops são codificados por meio dos comandos for e while. </p></div>\n",
    "\n",
    "<br>"
   ]
  },
  {
   "cell_type": "code",
   "execution_count": null,
   "metadata": {},
   "outputs": [],
   "source": [
    "for i in range(10):\n",
    "    '''A função range é que define como o for deve se comportar\n",
    "    Para ela é passado um parametro que define quantas vezes o código vai se repetir'''    \n",
    "    print(i)"
   ]
  },
  {
   "cell_type": "code",
   "execution_count": null,
   "metadata": {},
   "outputs": [],
   "source": [
    "lista = '' #Precisamos de uma lista aqui\n",
    "\n",
    "for i in lista:\n",
    "    print(i)"
   ]
  },
  {
   "cell_type": "code",
   "execution_count": null,
   "metadata": {},
   "outputs": [],
   "source": [
    "i = 0\n",
    "while i < 10:\n",
    "    print(i)\n",
    "    i += 1"
   ]
  },
  {
   "cell_type": "markdown",
   "metadata": {},
   "source": [
    "<h1>Importação de Dados</h1>\n",
    "\n",
    "<p>Também é interessante saber como importar dados para que sejam tratados e analisados. para isso temos algumas funções que auxiliam nisso.</p>"
   ]
  },
  {
   "cell_type": "code",
   "execution_count": 37,
   "metadata": {},
   "outputs": [
    {
     "name": "stdout",
     "output_type": "stream",
     "text": [
      "        0                1    2\n",
      "0       1       RAUL FILHO    8\n",
      "1       1       ZÉ ROBERTO    2\n",
      "2       1             NULO    3\n",
      "3       1           BRANCO    2\n",
      "4       1  SARGENTO ARAGÃO    3\n",
      "5       1    CLÁUDIA LELIS    6\n",
      "6       1          AMASTHA   41\n",
      "7       2       ZÉ ROBERTO    9\n",
      "8       2       RAUL FILHO  133\n",
      "9       2          AMASTHA   95\n",
      "10      2             NULO   21\n",
      "11      2  SARGENTO ARAGÃO    7\n",
      "12      2           BRANCO    7\n",
      "13      2    CLÁUDIA LELIS   21\n",
      "14      3       ZÉ ROBERTO    7\n",
      "15      3       RAUL FILHO  128\n",
      "16      3          AMASTHA   98\n",
      "17      3             NULO   24\n",
      "18      3  SARGENTO ARAGÃO   16\n",
      "19      3           BRANCO    7\n",
      "20      3    CLÁUDIA LELIS   31\n",
      "21      4             NULO   14\n",
      "22      4       ZÉ ROBERTO    8\n",
      "23      4       RAUL FILHO   58\n",
      "24      4           BRANCO   11\n",
      "25      4    CLÁUDIA LELIS   31\n",
      "26      4  SARGENTO ARAGÃO    5\n",
      "27      4          AMASTHA  166\n",
      "28      5       ZÉ ROBERTO    8\n",
      "29      5       RAUL FILHO   44\n",
      "...   ...              ...  ...\n",
      "3759  661  SARGENTO ARAGÃO    5\n",
      "3760  661           BRANCO    1\n",
      "3761  661    CLÁUDIA LELIS   12\n",
      "3762  662       ZÉ ROBERTO    4\n",
      "3763  662       RAUL FILHO   30\n",
      "3764  662          AMASTHA   51\n",
      "3765  662             NULO    8\n",
      "3766  662  SARGENTO ARAGÃO    3\n",
      "3767  662           BRANCO    3\n",
      "3768  662    CLÁUDIA LELIS   12\n",
      "3769  663    CLÁUDIA LELIS   15\n",
      "3770  663          AMASTHA   47\n",
      "3771  663       RAUL FILHO   12\n",
      "3772  663       ZÉ ROBERTO    2\n",
      "3773  663             NULO    3\n",
      "3774  663  SARGENTO ARAGÃO    3\n",
      "3775  664          AMASTHA   23\n",
      "3776  664       RAUL FILHO   24\n",
      "3777  664       ZÉ ROBERTO    8\n",
      "3778  664             NULO    2\n",
      "3779  664           BRANCO    5\n",
      "3780  664  SARGENTO ARAGÃO    3\n",
      "3781  664    CLÁUDIA LELIS   10\n",
      "3782  665       ZÉ ROBERTO    3\n",
      "3783  665       RAUL FILHO   58\n",
      "3784  665          AMASTHA   73\n",
      "3785  665             NULO   11\n",
      "3786  665  SARGENTO ARAGÃO    2\n",
      "3787  665           BRANCO    5\n",
      "3788  665    CLÁUDIA LELIS   10\n",
      "\n",
      "[3789 rows x 3 columns]\n"
     ]
    }
   ],
   "source": [
    "with open(\"Prefeito_Palmas2016.txt\",\"r\") as f:\n",
    "    data = pd.read_csv(f, delimiter=\";\", header=None)\n",
    "    data.sort_index(axis=0, inplace=True)\n",
    "f.close()\n",
    "print(data)"
   ]
  },
  {
   "cell_type": "markdown",
   "metadata": {},
   "source": [
    "<h1>Tratando e visualizando Dados</h1>"
   ]
  },
  {
   "cell_type": "code",
   "execution_count": 17,
   "metadata": {},
   "outputs": [
    {
     "data": {
      "image/png": "[encoded data removed]",
      "text/plain": [
       "<Figure size 432x288 with 1 Axes>"
      ]
     },
     "metadata": {
      "needs_background": "light"
     },
     "output_type": "display_data"
    }
   ],
   "source": [
    "import numpy as np\n",
    "import matplotlib.pyplot as plt\n",
    "\n",
    "men_means, men_std = (20, 35, 30, 35, 27), (2, 3, 4, 1, 2)\n",
    "women_means, women_std = (25, 62, 64, 30, 55), (3, 5, 2, 3, 3)\n",
    "\n",
    "ind = np.arange(len(men_means))  # the x locations for the groups\n",
    "width = 0.35  # the width of the bars\n",
    "\n",
    "fig, ax = plt.subplots()\n",
    "rects1 = ax.bar(ind - width/2, men_means, width, yerr=men_std,\n",
    "                color='SkyBlue', label='Homens')\n",
    "\n",
    "rects2 = ax.bar(ind + width/2, women_means, width, yerr=women_std,\n",
    "                color='IndianRed', label='Mulheres')\n",
    "\n",
    "# Add some text for labels, title and custom x-axis tick labels, etc.\n",
    "ax.set_ylabel('Pontuações')\n",
    "ax.set_title('POntuações por grupos de gênero')\n",
    "ax.set_xticks(ind)\n",
    "ax.set_xticklabels(('G1', 'G2', 'G3', 'G4', 'G5'))\n",
    "ax.legend()\n",
    "\n",
    "plt.show()"
   ]
  },
  {
   "cell_type": "code",
   "execution_count": null,
   "metadata": {},
   "outputs": [],
   "source": []
  }
 ],
 "metadata": {
  "kernelspec": {
   "display_name": "Python 3",
   "language": "python",
   "name": "python3"
  },
  "language_info": {
   "codemirror_mode": {
    "name": "ipython",
    "version": 3
   },
   "file_extension": ".py",
   "mimetype": "text/x-python",
   "name": "python",
   "nbconvert_exporter": "python",
   "pygments_lexer": "ipython3",
   "version": "3.7.0"
  }
 },
 "nbformat": 4,
 "nbformat_minor": 2
}

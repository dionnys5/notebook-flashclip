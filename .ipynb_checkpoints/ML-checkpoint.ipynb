{
 "cells": [
  {
   "cell_type": "markdown",
   "metadata": {},
   "source": [
    "<h1>O que é Aprendizado de Máquina</h1>\n",
    "<p>É um campo da <a href=\"https://www.tecmundo.com.br/intel/1039-o-que-e-inteligencia-artificial-.htm\" target=\"_blank\">Inteligência Artificial (IA)</a> que dá aos computadores a capacidade de aprender sem serem explicitamente programados, ou seja, permite que os computadores aprendam a executar tarefas a partir de dados.</p>\n",
    "<h3>Não entendeu ainda? Vamos tentar novamente</h3>\n",
    "<p>Aprendizado de máquina é a ideia de que existem <a href=\"https://pt.wikipedia.org/wiki/Algoritmo\" target=\"_blank\">algoritmos</a> genéricos que podem lhe dizer algo interessante sobre um <a href=\"https://pt.wikipedia.org/wiki/Conjunto_de_dados\" target=\"_blank\">conjunto de dados</a> sem que você tenha que escrever nenhum código específico ao problema.  Ao invés de escrever código, você alimenta o algoritmo genérico com os dados e ele constrói a sua própria logica com base nos dados.<p>\n",
    "\n",
    "<h1>Definição Formal</h1>\n",
    "<p>Diz-se que um programa de computador aprende a executar uma <strong>tarefa T</strong> a partir da <strong>experiência E</strong>, se seu desempenho na tarefa T, medido por uma métrica de <strong>desempenho P</strong>, melhora com a experiência E ao longo do tempo.</p>\n",
    "<h3>Exemplificando a definição</h3>\n",
    "<p>Vamos supor que um computador tenha que aprender a jogar xadrez (Tarefa T). Paro isso, ele \"assiste\" partidas anteriores ou joga contra um tutor (Experiência E). Seu desempenho P pode ser medido contanto a porcentagem de partidas ganhas contra um humano. Se ao longo do tempo a porcentagem estiver aumentando, pode se dizer que o computador está aprendendo a jogar xadrez</p>\n",
    "\n",
    "<h1>Tipos de algoritmos de Aprendizado de Máquina</h1>\n",
    "<p> Temos dois tipos gerais de algoritmos de aprendizado de máquina, <strong>Aprendizado Supervisionado</strong> e <strong>Aprendizado não Supervisionado</strong>. A principal diferença entre as duas abordagens reside na forma como fornecemos exemplos de treinamento ao nosso algoritmo, como o algoritmo os utiliza e o tipo de problemas que eles resolvem. A definição dos tipos segue:\n",
    "    <ul>\n",
    "        <li><strong>Aprendizado Supervisionado: </strong>O programa é “treinado” em um conjunto pré-definido de “exemplos de treinamento”, o que facilita sua capacidade de chegar a uma conclusão precisa quando receber novos dados.</li>\n",
    "        <li><strong>Aprendizado não Supervisionado: </strong>O programa recebe um conjunto de dados e precisa encontrar padrões e relacionamentos nele.</li>\n",
    "    </ul>\n",
    "<h1>Redes Neurais - Uma Técnica para Implementar Machine Learning</h1>\n",
    "<p>Redes Neurais Artificias é uma subárea do Aprendizado de Máquina, que emprega algoritmos para processar dados e imitar o processamento feito pelo cérebro humano.</p>"
   ]
  },
  {
   "cell_type": "markdown",
   "metadata": {},
   "source": [
    "<h1> Exemplo Prático</h1>\n",
    "<p> Vamos Reconhecer Digitos escritos a mão? </p>"
   ]
  },
  {
   "cell_type": "markdown",
   "metadata": {},
   "source": [
    "<h3>Importações Necessárias</h3>"
   ]
  },
  {
   "cell_type": "code",
   "execution_count": 89,
   "metadata": {},
   "outputs": [],
   "source": [
    "import tensorflow as tf\n",
    "import matplotlib.pyplot as plt\n",
    "import numpy as np\n",
    "from PIL import Image\n",
    "%matplotlib inline"
   ]
  },
  {
   "cell_type": "markdown",
   "metadata": {},
   "source": [
    "<h3>Carregando os dados</h3>"
   ]
  },
  {
   "cell_type": "code",
   "execution_count": 2,
   "metadata": {},
   "outputs": [],
   "source": [
    "mnist = tf.keras.datasets.mnist # imagens 28x28 de digitos escritos a mão de 0-9\n",
    "(x_train, y_train), (x_test, y_test) = mnist.load_data()"
   ]
  },
  {
   "cell_type": "markdown",
   "metadata": {},
   "source": [
    "<h3>Visualizando um exemplo</h3>"
   ]
  },
  {
   "cell_type": "code",
   "execution_count": 3,
   "metadata": {},
   "outputs": [
    {
     "data": {
      "image/png": "[encoded data removed]",
      "text/plain": [
       "<Figure size 432x288 with 1 Axes>"
      ]
     },
     "metadata": {
      "needs_background": "light"
     },
     "output_type": "display_data"
    }
   ],
   "source": [
    "plt.imshow(x_train[0], cmap=plt.cm.binary)\n",
    "plt.title(\"Número: %i\"%y_train[0])\n",
    "plt.show()"
   ]
  },
  {
   "cell_type": "markdown",
   "metadata": {},
   "source": [
    "<h3>Normalizando os dados</h3>"
   ]
  },
  {
   "cell_type": "code",
   "execution_count": 4,
   "metadata": {},
   "outputs": [],
   "source": [
    "x_train = tf.keras.utils.normalize(x_train, axis=1)\n",
    "x_test = tf.keras.utils.normalize(x_test, axis=1)"
   ]
  },
  {
   "cell_type": "code",
   "execution_count": 5,
   "metadata": {
    "scrolled": false
   },
   "outputs": [
    {
     "data": {
      "image/png": "[encoded data removed]",
      "text/plain": [
       "<Figure size 432x288 with 1 Axes>"
      ]
     },
     "metadata": {
      "needs_background": "light"
     },
     "output_type": "display_data"
    }
   ],
   "source": [
    "plt.imshow(x_train[0], cmap=plt.cm.binary)\n",
    "plt.title(\"Número: %i\"%y_train[0])\n",
    "plt.show()"
   ]
  },
  {
   "cell_type": "code",
   "execution_count": 8,
   "metadata": {},
   "outputs": [],
   "source": [
    "x_train = x_train.reshape(x_train.shape[0], 1, 28, 28)\n",
    "x_test = x_test.reshape(x_test.shape[0], 1, 28, 28)"
   ]
  },
  {
   "cell_type": "markdown",
   "metadata": {},
   "source": [
    "<h3>Construindo a rede neural</h3>"
   ]
  },
  {
   "cell_type": "code",
   "execution_count": 9,
   "metadata": {},
   "outputs": [],
   "source": [
    "model = tf.keras.models.Sequential([\n",
    "  tf.keras.layers.Flatten(input_shape=(1, 28, 28)),\n",
    "  tf.keras.layers.Dense(512, activation=tf.nn.relu),\n",
    "  tf.keras.layers.Dropout(0.2),\n",
    "  tf.keras.layers.Dense(10, activation=tf.nn.softmax)\n",
    "])\n",
    "model.compile(optimizer='adam',\n",
    "              loss='sparse_categorical_crossentropy',\n",
    "              metrics=['accuracy'])"
   ]
  },
  {
   "cell_type": "markdown",
   "metadata": {},
   "source": [
    "<h3>Treinando nossa rede</h3>"
   ]
  },
  {
   "cell_type": "code",
   "execution_count": 10,
   "metadata": {},
   "outputs": [
    {
     "name": "stdout",
     "output_type": "stream",
     "text": [
      "Epoch 1/5\n",
      "60000/60000 [==============================] - 19s 312us/step - loss: 0.2574 - acc: 0.9252\n",
      "Epoch 2/5\n",
      "60000/60000 [==============================] - 18s 307us/step - loss: 0.1092 - acc: 0.9670\n",
      "Epoch 3/5\n",
      "60000/60000 [==============================] - 18s 307us/step - loss: 0.0753 - acc: 0.9769\n",
      "Epoch 4/5\n",
      "60000/60000 [==============================] - 19s 310us/step - loss: 0.0558 - acc: 0.9824\n",
      "Epoch 5/5\n",
      "60000/60000 [==============================] - 18s 300us/step - loss: 0.0430 - acc: 0.9863\n",
      "10000/10000 [==============================] - 1s 75us/step\n"
     ]
    },
    {
     "data": {
      "text/plain": [
       "[0.0834706033622846, 0.9735]"
      ]
     },
     "execution_count": 10,
     "metadata": {},
     "output_type": "execute_result"
    }
   ],
   "source": [
    "model.fit(x_train, y_train, epochs=5)\n",
    "model.evaluate(x_test, y_test)"
   ]
  },
  {
   "cell_type": "markdown",
   "metadata": {},
   "source": [
    "<h3>Salvando e carregando nossa rede</h3>"
   ]
  },
  {
   "cell_type": "code",
   "execution_count": 11,
   "metadata": {},
   "outputs": [],
   "source": [
    "model.save(\"mnist.model\")\n",
    "new_model = tf.keras.models.load_model(\"mnist.model\")"
   ]
  },
  {
   "cell_type": "markdown",
   "metadata": {},
   "source": [
    "<h3>Fazendo previsões</h3>"
   ]
  },
  {
   "cell_type": "code",
   "execution_count": 17,
   "metadata": {},
   "outputs": [
    {
     "data": {
      "text/plain": [
       "7"
      ]
     },
     "execution_count": 17,
     "metadata": {},
     "output_type": "execute_result"
    }
   ],
   "source": [
    "np.argmax(new_model.predict([x_test[0].reshape(1, 1, 28, 28)]))"
   ]
  },
  {
   "cell_type": "code",
   "execution_count": 20,
   "metadata": {},
   "outputs": [
    {
     "data": {
      "text/plain": [
       "<matplotlib.image.AxesImage at 0x24b1cda7390>"
      ]
     },
     "execution_count": 20,
     "metadata": {},
     "output_type": "execute_result"
    },
    {
     "data": {
      "image/png": "[encoded data removed]",
      "text/plain": [
       "<Figure size 432x288 with 1 Axes>"
      ]
     },
     "metadata": {
      "needs_background": "light"
     },
     "output_type": "display_data"
    }
   ],
   "source": [
    "plt.imshow(x_test[0].reshape(28,28), cmap=plt.cm.binary)"
   ]
  },
  {
   "cell_type": "markdown",
   "metadata": {},
   "source": [
    "<h1>Vamos testar com imagens feitas por nós?</h1>\n",
    "<ol>\n",
    "    <li>Primeiro vamos abrir o Paint</li>\n",
    "    <li>\n",
    "        Com o paint aberto, vamo fazer algumas configurações\n",
    "        <ol>\n",
    "            <li>Redimensionar o tamanho do paint para 28x28</li>\n",
    "            <li>Aumentar o Zoom para o máximo</li>\n",
    "            <li>Pintar o fundo de preto</li>\n",
    "            <li>Selecionar a cor principal como branca</li>\n",
    "        </ol>\n",
    "   </li>\n",
    "    <li>Desenhe um número e salve como JPEG</li>\n",
    "</ol>"
   ]
  },
  {
   "cell_type": "code",
   "execution_count": 91,
   "metadata": {},
   "outputs": [],
   "source": [
    "def prever(image):\n",
    "    image = np.array(Image.open(image).convert(\"L\"))\n",
    "    plt.imshow(image, cmap=plt.cm.binary)\n",
    "    image = tf.keras.utils.normalize(image)\n",
    "    image = image.reshape(1, 1, 28, 28)\n",
    "    predict = np.argmax(model.predict([image]))\n",
    "    plt.title(\"Número previsto: %i\"%predict)\n",
    "    plt.show()"
   ]
  },
  {
   "cell_type": "markdown",
   "metadata": {},
   "source": [
    "<h3>Passe o mesmo nome do arquivo que você salvo para a função</h3>"
   ]
  },
  {
   "cell_type": "code",
   "execution_count": 92,
   "metadata": {},
   "outputs": [
    {
     "data": {
      "image/png": "[encoded data removed]",
      "text/plain": [
       "<Figure size 432x288 with 1 Axes>"
      ]
     },
     "metadata": {
      "needs_background": "light"
     },
     "output_type": "display_data"
    }
   ],
   "source": [
    "prever(\"sete.jpg\")"
   ]
  }
 ],
 "metadata": {
  "kernelspec": {
   "display_name": "Python 3",
   "language": "python",
   "name": "python3"
  },
  "language_info": {
   "codemirror_mode": {
    "name": "ipython",
    "version": 3
   },
   "file_extension": ".py",
   "mimetype": "text/x-python",
   "name": "python",
   "nbconvert_exporter": "python",
   "pygments_lexer": "ipython3",
   "version": "3.7.0"
  }
 },
 "nbformat": 4,
 "nbformat_minor": 2
}
